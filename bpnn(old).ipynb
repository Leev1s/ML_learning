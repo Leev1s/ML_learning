{
 "cells": [
  {
   "cell_type": "code",
   "execution_count": 43,
   "metadata": {},
   "outputs": [
    {
     "name": "stdout",
     "output_type": "stream",
     "text": [
      "\n",
      "    __             ___        _____ __            ___     \n",
      "   / /   ___ _   _<  /____   / ___// /___  ______/ (_)___ \n",
      "  / /   / _ \\ | / / / ___/   \\__ \\/ __/ / / / __  / / __ \\\n",
      " / /___/  __/ |/ / (__  )   ___/ / /_/ /_/ / /_/ / / /_/ /\n",
      "/_____/\\___/|___/_/____/   /____/\\__/\\__,_/\\__,_/_/\\____/\n",
      "\n",
      "pandas: 1.4.4\n",
      "numpy: 1.23.3\n"
     ]
    }
   ],
   "source": [
    "#!/usr/bin/env python\n",
    "# -*- encoding: utf-8 -*-\n",
    "'''\n",
    "@File    :   manul.ipynb\n",
    "@Time    :   2022/11/29 21:03:45\n",
    "@Author  :   Lev1s\n",
    "@Version :   1.0\n",
    "@Contact :   Lev1sStudio.cn@gmail.com\n",
    "@PW      :   http://Lev1s.cn\n",
    "@Github  :   https://github.com/o0Lev1s0o\n",
    "\n",
    "'''\n",
    "print('''\n",
    "    __             ___        _____ __            ___     \n",
    "   / /   ___ _   _<  /____   / ___// /___  ______/ (_)___ \n",
    "  / /   / _ \\ | / / / ___/   \\__ \\/ __/ / / / __  / / __ \\\\\n",
    " / /___/  __/ |/ / (__  )   ___/ / /_/ /_/ / /_/ / / /_/ /\n",
    "/_____/\\___/|___/_/____/   /____/\\__/\\__,_/\\__,_/_/\\____/\n",
    "''')\n",
    "# here put the import lib\n",
    "import pandas as pd\n",
    "import numpy as np\n",
    "print('pandas:',pd.__version__)\n",
    "print('numpy:',np.__version__)"
   ]
  },
  {
   "cell_type": "code",
   "execution_count": 44,
   "metadata": {},
   "outputs": [
    {
     "ename": "KeyboardInterrupt",
     "evalue": "",
     "output_type": "error",
     "traceback": [
      "\u001b[0;31m---------------------------------------------------------------------------\u001b[0m",
      "\u001b[0;31mKeyboardInterrupt\u001b[0m                         Traceback (most recent call last)",
      "\u001b[1;32m/Users/lev1s/Documents/code/Lev1s/ML_learning/manul.ipynb Cell 2\u001b[0m in \u001b[0;36m<cell line: 40>\u001b[0;34m()\u001b[0m\n\u001b[1;32m     <a href='vscode-notebook-cell:/Users/lev1s/Documents/code/Lev1s/ML_learning/manul.ipynb#W1sZmlsZQ%3D%3D?line=41'>42</a>\u001b[0m tmp \u001b[39m=\u001b[39m x\u001b[39m.\u001b[39mdot(a)\u001b[39m.\u001b[39mastype(\u001b[39mfloat\u001b[39m)\n\u001b[1;32m     <a href='vscode-notebook-cell:/Users/lev1s/Documents/code/Lev1s/ML_learning/manul.ipynb#W1sZmlsZQ%3D%3D?line=42'>43</a>\u001b[0m wow \u001b[39m=\u001b[39m forward(x,a,b)\n\u001b[0;32m---> <a href='vscode-notebook-cell:/Users/lev1s/Documents/code/Lev1s/ML_learning/manul.ipynb#W1sZmlsZQ%3D%3D?line=43'>44</a>\u001b[0m pre \u001b[39m=\u001b[39m np\u001b[39m.\u001b[39margmax(forward(x,a,b),axis\u001b[39m=\u001b[39m\u001b[39m1\u001b[39m)\n\u001b[1;32m     <a href='vscode-notebook-cell:/Users/lev1s/Documents/code/Lev1s/ML_learning/manul.ipynb#W1sZmlsZQ%3D%3D?line=44'>45</a>\u001b[0m pre\n",
      "\u001b[1;32m/Users/lev1s/Documents/code/Lev1s/ML_learning/manul.ipynb Cell 2\u001b[0m in \u001b[0;36mforward\u001b[0;34m(x, a, b)\u001b[0m\n\u001b[1;32m     <a href='vscode-notebook-cell:/Users/lev1s/Documents/code/Lev1s/ML_learning/manul.ipynb#W1sZmlsZQ%3D%3D?line=22'>23</a>\u001b[0m \u001b[39mdef\u001b[39;00m \u001b[39mforward\u001b[39m(x,a,b):\n\u001b[1;32m     <a href='vscode-notebook-cell:/Users/lev1s/Documents/code/Lev1s/ML_learning/manul.ipynb#W1sZmlsZQ%3D%3D?line=23'>24</a>\u001b[0m     tmp \u001b[39m=\u001b[39m x\u001b[39m.\u001b[39mdot(a)\u001b[39m.\u001b[39mastype(\u001b[39mfloat\u001b[39m)\u001b[39m-\u001b[39mb\n\u001b[0;32m---> <a href='vscode-notebook-cell:/Users/lev1s/Documents/code/Lev1s/ML_learning/manul.ipynb#W1sZmlsZQ%3D%3D?line=24'>25</a>\u001b[0m     \u001b[39mreturn\u001b[39;00m Softmax(tmp)\n",
      "\u001b[1;32m/Users/lev1s/Documents/code/Lev1s/ML_learning/manul.ipynb Cell 2\u001b[0m in \u001b[0;36mSoftmax\u001b[0;34m(f)\u001b[0m\n\u001b[1;32m     <a href='vscode-notebook-cell:/Users/lev1s/Documents/code/Lev1s/ML_learning/manul.ipynb#W1sZmlsZQ%3D%3D?line=17'>18</a>\u001b[0m \u001b[39mfor\u001b[39;00m i \u001b[39min\u001b[39;00m \u001b[39mrange\u001b[39m(n):\n\u001b[1;32m     <a href='vscode-notebook-cell:/Users/lev1s/Documents/code/Lev1s/ML_learning/manul.ipynb#W1sZmlsZQ%3D%3D?line=18'>19</a>\u001b[0m     \u001b[39mfor\u001b[39;00m j \u001b[39min\u001b[39;00m \u001b[39mrange\u001b[39m(\u001b[39m3\u001b[39m):\n\u001b[0;32m---> <a href='vscode-notebook-cell:/Users/lev1s/Documents/code/Lev1s/ML_learning/manul.ipynb#W1sZmlsZQ%3D%3D?line=19'>20</a>\u001b[0m         Q[i,j] \u001b[39m=\u001b[39m np\u001b[39m.\u001b[39mexp(f[i,j])\u001b[39m/\u001b[39m(np\u001b[39m.\u001b[39;49msum(np\u001b[39m.\u001b[39;49mexp(f[i,:]))\u001b[39m.\u001b[39mastype(\u001b[39mfloat\u001b[39m))\n\u001b[1;32m     <a href='vscode-notebook-cell:/Users/lev1s/Documents/code/Lev1s/ML_learning/manul.ipynb#W1sZmlsZQ%3D%3D?line=20'>21</a>\u001b[0m \u001b[39mreturn\u001b[39;00m Q\n",
      "File \u001b[0;32m<__array_function__ internals>:180\u001b[0m, in \u001b[0;36msum\u001b[0;34m(*args, **kwargs)\u001b[0m\n",
      "File \u001b[0;32m/opt/homebrew/Caskroom/miniconda/base/envs/ML/lib/python3.10/site-packages/numpy/core/fromnumeric.py:2298\u001b[0m, in \u001b[0;36msum\u001b[0;34m(a, axis, dtype, out, keepdims, initial, where)\u001b[0m\n\u001b[1;32m   2295\u001b[0m         \u001b[39mreturn\u001b[39;00m out\n\u001b[1;32m   2296\u001b[0m     \u001b[39mreturn\u001b[39;00m res\n\u001b[0;32m-> 2298\u001b[0m \u001b[39mreturn\u001b[39;00m _wrapreduction(a, np\u001b[39m.\u001b[39;49madd, \u001b[39m'\u001b[39;49m\u001b[39msum\u001b[39;49m\u001b[39m'\u001b[39;49m, axis, dtype, out, keepdims\u001b[39m=\u001b[39;49mkeepdims,\n\u001b[1;32m   2299\u001b[0m                       initial\u001b[39m=\u001b[39;49minitial, where\u001b[39m=\u001b[39;49mwhere)\n",
      "File \u001b[0;32m/opt/homebrew/Caskroom/miniconda/base/envs/ML/lib/python3.10/site-packages/numpy/core/fromnumeric.py:69\u001b[0m, in \u001b[0;36m_wrapreduction\u001b[0;34m(obj, ufunc, method, axis, dtype, out, **kwargs)\u001b[0m\n\u001b[1;32m     58\u001b[0m     \u001b[39mexcept\u001b[39;00m \u001b[39mTypeError\u001b[39;00m:\n\u001b[1;32m     59\u001b[0m         \u001b[39m# A TypeError occurs if the object does have such a method in its\u001b[39;00m\n\u001b[1;32m     60\u001b[0m         \u001b[39m# class, but its signature is not identical to that of NumPy's. This\u001b[39;00m\n\u001b[0;32m   (...)\u001b[0m\n\u001b[1;32m     64\u001b[0m         \u001b[39m# Call _wrapit from within the except clause to ensure a potential\u001b[39;00m\n\u001b[1;32m     65\u001b[0m         \u001b[39m# exception has a traceback chain.\u001b[39;00m\n\u001b[1;32m     66\u001b[0m         \u001b[39mreturn\u001b[39;00m _wrapit(obj, method, \u001b[39m*\u001b[39margs, \u001b[39m*\u001b[39m\u001b[39m*\u001b[39mkwds)\n\u001b[0;32m---> 69\u001b[0m \u001b[39mdef\u001b[39;00m \u001b[39m_wrapreduction\u001b[39m(obj, ufunc, method, axis, dtype, out, \u001b[39m*\u001b[39m\u001b[39m*\u001b[39mkwargs):\n\u001b[1;32m     70\u001b[0m     passkwargs \u001b[39m=\u001b[39m {k: v \u001b[39mfor\u001b[39;00m k, v \u001b[39min\u001b[39;00m kwargs\u001b[39m.\u001b[39mitems()\n\u001b[1;32m     71\u001b[0m                   \u001b[39mif\u001b[39;00m v \u001b[39mis\u001b[39;00m \u001b[39mnot\u001b[39;00m np\u001b[39m.\u001b[39m_NoValue}\n\u001b[1;32m     73\u001b[0m     \u001b[39mif\u001b[39;00m \u001b[39mtype\u001b[39m(obj) \u001b[39mis\u001b[39;00m \u001b[39mnot\u001b[39;00m mu\u001b[39m.\u001b[39mndarray:\n",
      "File \u001b[0;32m_pydevd_bundle/pydevd_cython.pyx:1363\u001b[0m, in \u001b[0;36m_pydevd_bundle.pydevd_cython.SafeCallWrapper.__call__\u001b[0;34m()\u001b[0m\n",
      "File \u001b[0;32m_pydevd_bundle/pydevd_cython.pyx:1664\u001b[0m, in \u001b[0;36m_pydevd_bundle.pydevd_cython.ThreadTracer.__call__\u001b[0;34m()\u001b[0m\n",
      "File \u001b[0;32m/opt/homebrew/Caskroom/miniconda/base/envs/ML/lib/python3.10/site-packages/debugpy/_vendored/pydevd/_pydev_bundle/pydev_is_thread_alive.py:9\u001b[0m, in \u001b[0;36mis_thread_alive\u001b[0;34m(t)\u001b[0m\n\u001b[1;32m      6\u001b[0m _temp \u001b[39m=\u001b[39m threading\u001b[39m.\u001b[39mThread()\n\u001b[1;32m      7\u001b[0m \u001b[39mif\u001b[39;00m \u001b[39mhasattr\u001b[39m(_temp, \u001b[39m'\u001b[39m\u001b[39m_is_stopped\u001b[39m\u001b[39m'\u001b[39m):  \u001b[39m# Python 3.x has this\u001b[39;00m\n\u001b[0;32m----> 9\u001b[0m     \u001b[39mdef\u001b[39;00m \u001b[39mis_thread_alive\u001b[39m(t):\n\u001b[1;32m     10\u001b[0m         \u001b[39mreturn\u001b[39;00m \u001b[39mnot\u001b[39;00m t\u001b[39m.\u001b[39m_is_stopped\n\u001b[1;32m     12\u001b[0m \u001b[39melif\u001b[39;00m \u001b[39mhasattr\u001b[39m(_temp, \u001b[39m'\u001b[39m\u001b[39m_Thread__stopped\u001b[39m\u001b[39m'\u001b[39m):  \u001b[39m# Python 2.x has this\u001b[39;00m\n",
      "\u001b[0;31mKeyboardInterrupt\u001b[0m: "
     ]
    }
   ],
   "source": [
    "data = np.array(pd.read_csv('data.csv'))\n",
    "X = data[:,:-1]\n",
    "label = data[:,-1].astype(int)\n",
    "\n",
    "n = label.size ##样本个数\n",
    "p_n = X.shape[1] ##参数个数\n",
    "\n",
    "y = np.zeros((n,3))\n",
    "for i in range(n):\n",
    "     y[i,label[i]] = 1\n",
    "\n",
    "x = (X - X.min(axis=0)) / (X.max(axis=0) - X.min(axis=0))\n",
    "a = np.random.rand(p_n, 3) - 0.5\n",
    "b = np.random.rand(1, 3) - 0.5\n",
    "\n",
    "def Softmax(f):\n",
    "    Q = np.zeros_like(f)\n",
    "    for i in range(n):\n",
    "        for j in range(3):\n",
    "            Q[i,j] = np.exp(f[i,j])/(np.sum(np.exp(f[i,:])).astype(float))\n",
    "    return Q\n",
    "\n",
    "def forward(x,a,b):\n",
    "    tmp = x.dot(a).astype(float)-b\n",
    "    return Softmax(tmp)\n",
    "    #return 1/(1+np.exp(-tmp))\n",
    "\n",
    "def backward(x,a,b):\n",
    "    dy = forward(x,a,b) - y\n",
    "    da = 1/n*(x.T).dot(dy)\n",
    "    db = np.mean(dy,axis=0)\n",
    "    return dy,da,db\n",
    "\n",
    "def update(x, a, b, learn_rate):\n",
    "    dy,da,db = backward(x,a,b)\n",
    "    a = a + da * learn_rate\n",
    "    b = b + db * learn_rate\n",
    "    return a,dy,da,db\n",
    "\n",
    "for i in range(100000):\n",
    "    a,dy,da,db = update(x,a,b,0.01)\n",
    "    tmp = x.dot(a).astype(float)\n",
    "    wow = forward(x,a,b)\n",
    "    pre = np.argmax(forward(x,a,b),axis=1)\n",
    "    pre\n",
    "\n",
    "\n",
    "\n"
   ]
  }
 ],
 "metadata": {
  "kernelspec": {
   "display_name": "Python 3.10.6 ('ML')",
   "language": "python",
   "name": "python3"
  },
  "language_info": {
   "codemirror_mode": {
    "name": "ipython",
    "version": 3
   },
   "file_extension": ".py",
   "mimetype": "text/x-python",
   "name": "python",
   "nbconvert_exporter": "python",
   "pygments_lexer": "ipython3",
   "version": "3.10.6"
  },
  "orig_nbformat": 4,
  "vscode": {
   "interpreter": {
    "hash": "c7800c1602e804119a7845c43c657b7c86d037f3d695d8e15bda7bb1bd4c01f9"
   }
  }
 },
 "nbformat": 4,
 "nbformat_minor": 2
}
